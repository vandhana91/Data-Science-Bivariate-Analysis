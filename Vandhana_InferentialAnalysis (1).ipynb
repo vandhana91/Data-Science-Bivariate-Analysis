{
  "metadata": {
    "kernelspec": {
      "name": "python",
      "display_name": "Python (Pyodide)",
      "language": "python"
    },
    "language_info": {
      "codemirror_mode": {
        "name": "python",
        "version": 3
      },
      "file_extension": ".py",
      "mimetype": "text/x-python",
      "name": "python",
      "nbconvert_exporter": "python",
      "pygments_lexer": "ipython3",
      "version": "3.8"
    }
  },
  "nbformat_minor": 4,
  "nbformat": 4,
  "cells": [
    {
      "cell_type": "code",
      "source": "import pandas as pd\nimport numpy as np",
      "metadata": {
        "trusted": true
      },
      "outputs": [],
      "execution_count": 68
    },
    {
      "cell_type": "code",
      "source": "dataset = pd.read_csv('Placement.csv')",
      "metadata": {
        "trusted": true
      },
      "outputs": [],
      "execution_count": 2
    },
    {
      "cell_type": "code",
      "source": "dataset.isnull().sum()",
      "metadata": {
        "trusted": true
      },
      "outputs": [
        {
          "execution_count": 3,
          "output_type": "execute_result",
          "data": {
            "text/plain": "sl_no              0\ngender             0\nssc_p              0\nssc_b              0\nhsc_p              0\nhsc_b              0\nhsc_s              0\ndegree_p           0\ndegree_t           0\nworkex             0\netest_p            0\nspecialisation     0\nmba_p              0\nstatus             0\nsalary            67\ndtype: int64"
          },
          "metadata": {}
        }
      ],
      "execution_count": 3
    },
    {
      "cell_type": "code",
      "source": "dataset[dataset.isnull().any(axis=1)]",
      "metadata": {
        "trusted": true
      },
      "outputs": [
        {
          "execution_count": 8,
          "output_type": "execute_result",
          "data": {
            "text/plain": "Empty DataFrame\nColumns: [sl_no, gender, ssc_p, ssc_b, hsc_p, hsc_b, hsc_s, degree_p, degree_t, workex, etest_p, specialisation, mba_p, status, salary]\nIndex: []",
            "text/html": "<div>\n<style scoped>\n    .dataframe tbody tr th:only-of-type {\n        vertical-align: middle;\n    }\n\n    .dataframe tbody tr th {\n        vertical-align: top;\n    }\n\n    .dataframe thead th {\n        text-align: right;\n    }\n</style>\n<table border=\"1\" class=\"dataframe\">\n  <thead>\n    <tr style=\"text-align: right;\">\n      <th></th>\n      <th>sl_no</th>\n      <th>gender</th>\n      <th>ssc_p</th>\n      <th>ssc_b</th>\n      <th>hsc_p</th>\n      <th>hsc_b</th>\n      <th>hsc_s</th>\n      <th>degree_p</th>\n      <th>degree_t</th>\n      <th>workex</th>\n      <th>etest_p</th>\n      <th>specialisation</th>\n      <th>mba_p</th>\n      <th>status</th>\n      <th>salary</th>\n    </tr>\n  </thead>\n  <tbody>\n  </tbody>\n</table>\n</div>"
          },
          "metadata": {}
        }
      ],
      "execution_count": 8
    },
    {
      "cell_type": "markdown",
      "source": "# 1.Replace the NaN values with correct value\n#replacing the values null salary values to 0",
      "metadata": {}
    },
    {
      "cell_type": "code",
      "source": "\ndataset[\"salary\"].fillna(0,inplace=True)",
      "metadata": {
        "trusted": true
      },
      "outputs": [],
      "execution_count": 7
    },
    {
      "cell_type": "markdown",
      "source": "Answer: \nOnly Salary is having null values , so it is replaced with 0",
      "metadata": {}
    },
    {
      "cell_type": "markdown",
      "source": "# 2. students who have not placed",
      "metadata": {}
    },
    {
      "cell_type": "code",
      "source": "dataset['status'].value_counts()",
      "metadata": {
        "trusted": true
      },
      "outputs": [
        {
          "execution_count": 9,
          "output_type": "execute_result",
          "data": {
            "text/plain": "Placed        148\nNot Placed     67\nName: status, dtype: int64"
          },
          "metadata": {}
        }
      ],
      "execution_count": 9
    },
    {
      "cell_type": "markdown",
      "source": "# Answer: \n# 67 students have not been placed",
      "metadata": {}
    },
    {
      "cell_type": "markdown",
      "source": "# 3. Reason for non-placement from the dataset",
      "metadata": {}
    },
    {
      "cell_type": "code",
      "source": "dataset[dataset['status']=='Not Placed']",
      "metadata": {
        "trusted": true
      },
      "outputs": [
        {
          "execution_count": 11,
          "output_type": "execute_result",
          "data": {
            "text/plain": "     sl_no gender  ssc_p    ssc_b  hsc_p    hsc_b     hsc_s  degree_p  \\\n3        4      M   56.0  Central   52.0  Central   Science     52.00   \n5        6      M   55.0   Others   49.8   Others   Science     67.25   \n6        7      F   46.0   Others   49.2   Others  Commerce     79.00   \n9       10      M   58.0  Central   70.0  Central  Commerce     61.00   \n12      13      F   47.0  Central   55.0   Others   Science     65.00   \n..     ...    ...    ...      ...    ...      ...       ...       ...   \n198    199      F   67.0  Central   70.0  Central  Commerce     65.00   \n201    202      M   54.2  Central   63.0   Others   Science     58.00   \n206    207      M   41.0  Central   42.0  Central   Science     60.00   \n208    209      F   43.0  Central   60.0   Others   Science     65.00   \n214    215      M   62.0  Central   58.0   Others   Science     53.00   \n\n      degree_t workex  etest_p specialisation  mba_p      status  salary  \n3     Sci&Tech     No    66.00         Mkt&HR  59.43  Not Placed     0.0  \n5     Sci&Tech    Yes    55.00        Mkt&Fin  51.58  Not Placed     0.0  \n6    Comm&Mgmt     No    74.28        Mkt&Fin  53.29  Not Placed     0.0  \n9    Comm&Mgmt     No    54.00        Mkt&Fin  52.21  Not Placed     0.0  \n12   Comm&Mgmt     No    62.00         Mkt&HR  65.04  Not Placed     0.0  \n..         ...    ...      ...            ...    ...         ...     ...  \n198     Others     No    88.00         Mkt&HR  71.96  Not Placed     0.0  \n201  Comm&Mgmt     No    79.00         Mkt&HR  58.44  Not Placed     0.0  \n206  Comm&Mgmt     No    97.00        Mkt&Fin  53.39  Not Placed     0.0  \n208  Comm&Mgmt     No    92.66         Mkt&HR  62.92  Not Placed     0.0  \n214  Comm&Mgmt     No    89.00         Mkt&HR  60.22  Not Placed     0.0  \n\n[67 rows x 15 columns]",
            "text/html": "<div>\n<style scoped>\n    .dataframe tbody tr th:only-of-type {\n        vertical-align: middle;\n    }\n\n    .dataframe tbody tr th {\n        vertical-align: top;\n    }\n\n    .dataframe thead th {\n        text-align: right;\n    }\n</style>\n<table border=\"1\" class=\"dataframe\">\n  <thead>\n    <tr style=\"text-align: right;\">\n      <th></th>\n      <th>sl_no</th>\n      <th>gender</th>\n      <th>ssc_p</th>\n      <th>ssc_b</th>\n      <th>hsc_p</th>\n      <th>hsc_b</th>\n      <th>hsc_s</th>\n      <th>degree_p</th>\n      <th>degree_t</th>\n      <th>workex</th>\n      <th>etest_p</th>\n      <th>specialisation</th>\n      <th>mba_p</th>\n      <th>status</th>\n      <th>salary</th>\n    </tr>\n  </thead>\n  <tbody>\n    <tr>\n      <th>3</th>\n      <td>4</td>\n      <td>M</td>\n      <td>56.0</td>\n      <td>Central</td>\n      <td>52.0</td>\n      <td>Central</td>\n      <td>Science</td>\n      <td>52.00</td>\n      <td>Sci&amp;Tech</td>\n      <td>No</td>\n      <td>66.00</td>\n      <td>Mkt&amp;HR</td>\n      <td>59.43</td>\n      <td>Not Placed</td>\n      <td>0.0</td>\n    </tr>\n    <tr>\n      <th>5</th>\n      <td>6</td>\n      <td>M</td>\n      <td>55.0</td>\n      <td>Others</td>\n      <td>49.8</td>\n      <td>Others</td>\n      <td>Science</td>\n      <td>67.25</td>\n      <td>Sci&amp;Tech</td>\n      <td>Yes</td>\n      <td>55.00</td>\n      <td>Mkt&amp;Fin</td>\n      <td>51.58</td>\n      <td>Not Placed</td>\n      <td>0.0</td>\n    </tr>\n    <tr>\n      <th>6</th>\n      <td>7</td>\n      <td>F</td>\n      <td>46.0</td>\n      <td>Others</td>\n      <td>49.2</td>\n      <td>Others</td>\n      <td>Commerce</td>\n      <td>79.00</td>\n      <td>Comm&amp;Mgmt</td>\n      <td>No</td>\n      <td>74.28</td>\n      <td>Mkt&amp;Fin</td>\n      <td>53.29</td>\n      <td>Not Placed</td>\n      <td>0.0</td>\n    </tr>\n    <tr>\n      <th>9</th>\n      <td>10</td>\n      <td>M</td>\n      <td>58.0</td>\n      <td>Central</td>\n      <td>70.0</td>\n      <td>Central</td>\n      <td>Commerce</td>\n      <td>61.00</td>\n      <td>Comm&amp;Mgmt</td>\n      <td>No</td>\n      <td>54.00</td>\n      <td>Mkt&amp;Fin</td>\n      <td>52.21</td>\n      <td>Not Placed</td>\n      <td>0.0</td>\n    </tr>\n    <tr>\n      <th>12</th>\n      <td>13</td>\n      <td>F</td>\n      <td>47.0</td>\n      <td>Central</td>\n      <td>55.0</td>\n      <td>Others</td>\n      <td>Science</td>\n      <td>65.00</td>\n      <td>Comm&amp;Mgmt</td>\n      <td>No</td>\n      <td>62.00</td>\n      <td>Mkt&amp;HR</td>\n      <td>65.04</td>\n      <td>Not Placed</td>\n      <td>0.0</td>\n    </tr>\n    <tr>\n      <th>...</th>\n      <td>...</td>\n      <td>...</td>\n      <td>...</td>\n      <td>...</td>\n      <td>...</td>\n      <td>...</td>\n      <td>...</td>\n      <td>...</td>\n      <td>...</td>\n      <td>...</td>\n      <td>...</td>\n      <td>...</td>\n      <td>...</td>\n      <td>...</td>\n      <td>...</td>\n    </tr>\n    <tr>\n      <th>198</th>\n      <td>199</td>\n      <td>F</td>\n      <td>67.0</td>\n      <td>Central</td>\n      <td>70.0</td>\n      <td>Central</td>\n      <td>Commerce</td>\n      <td>65.00</td>\n      <td>Others</td>\n      <td>No</td>\n      <td>88.00</td>\n      <td>Mkt&amp;HR</td>\n      <td>71.96</td>\n      <td>Not Placed</td>\n      <td>0.0</td>\n    </tr>\n    <tr>\n      <th>201</th>\n      <td>202</td>\n      <td>M</td>\n      <td>54.2</td>\n      <td>Central</td>\n      <td>63.0</td>\n      <td>Others</td>\n      <td>Science</td>\n      <td>58.00</td>\n      <td>Comm&amp;Mgmt</td>\n      <td>No</td>\n      <td>79.00</td>\n      <td>Mkt&amp;HR</td>\n      <td>58.44</td>\n      <td>Not Placed</td>\n      <td>0.0</td>\n    </tr>\n    <tr>\n      <th>206</th>\n      <td>207</td>\n      <td>M</td>\n      <td>41.0</td>\n      <td>Central</td>\n      <td>42.0</td>\n      <td>Central</td>\n      <td>Science</td>\n      <td>60.00</td>\n      <td>Comm&amp;Mgmt</td>\n      <td>No</td>\n      <td>97.00</td>\n      <td>Mkt&amp;Fin</td>\n      <td>53.39</td>\n      <td>Not Placed</td>\n      <td>0.0</td>\n    </tr>\n    <tr>\n      <th>208</th>\n      <td>209</td>\n      <td>F</td>\n      <td>43.0</td>\n      <td>Central</td>\n      <td>60.0</td>\n      <td>Others</td>\n      <td>Science</td>\n      <td>65.00</td>\n      <td>Comm&amp;Mgmt</td>\n      <td>No</td>\n      <td>92.66</td>\n      <td>Mkt&amp;HR</td>\n      <td>62.92</td>\n      <td>Not Placed</td>\n      <td>0.0</td>\n    </tr>\n    <tr>\n      <th>214</th>\n      <td>215</td>\n      <td>M</td>\n      <td>62.0</td>\n      <td>Central</td>\n      <td>58.0</td>\n      <td>Others</td>\n      <td>Science</td>\n      <td>53.00</td>\n      <td>Comm&amp;Mgmt</td>\n      <td>No</td>\n      <td>89.00</td>\n      <td>Mkt&amp;HR</td>\n      <td>60.22</td>\n      <td>Not Placed</td>\n      <td>0.0</td>\n    </tr>\n  </tbody>\n</table>\n<p>67 rows × 15 columns</p>\n</div>"
          },
          "metadata": {}
        }
      ],
      "execution_count": 11
    },
    {
      "cell_type": "code",
      "source": "dataset.groupby('status')['mba_p'].mean()",
      "metadata": {
        "trusted": true
      },
      "outputs": [
        {
          "execution_count": 56,
          "output_type": "execute_result",
          "data": {
            "text/plain": "status\nNot Placed    61.612836\nPlaced        62.579392\nName: mba_p, dtype: float64"
          },
          "metadata": {}
        }
      ],
      "execution_count": 56
    },
    {
      "cell_type": "code",
      "source": "dataset.groupby('status')['ssc_p'].mean()",
      "metadata": {
        "trusted": true
      },
      "outputs": [
        {
          "execution_count": 57,
          "output_type": "execute_result",
          "data": {
            "text/plain": "status\nNot Placed    57.544030\nPlaced        71.721486\nName: ssc_p, dtype: float64"
          },
          "metadata": {}
        }
      ],
      "execution_count": 57
    },
    {
      "cell_type": "code",
      "source": "dataset.groupby('status')['hsc_p'].mean()",
      "metadata": {
        "trusted": true
      },
      "outputs": [
        {
          "execution_count": 58,
          "output_type": "execute_result",
          "data": {
            "text/plain": "status\nNot Placed    58.395522\nPlaced        69.926554\nName: hsc_p, dtype: float64"
          },
          "metadata": {}
        }
      ],
      "execution_count": 58
    },
    {
      "cell_type": "code",
      "source": "dataset.groupby('status')['etest_p'].mean()",
      "metadata": {
        "trusted": true
      },
      "outputs": [
        {
          "execution_count": 59,
          "output_type": "execute_result",
          "data": {
            "text/plain": "status\nNot Placed    69.587910\nPlaced        73.238041\nName: etest_p, dtype: float64"
          },
          "metadata": {}
        }
      ],
      "execution_count": 59
    },
    {
      "cell_type": "markdown",
      "source": "# Answer:\n# For the 67 students who have not placed their ssc_p , hsc_p , etest_p and mba_p marks are low\n# So they have not placed",
      "metadata": {}
    },
    {
      "cell_type": "markdown",
      "source": "# 4. Relation between salary and mba_p",
      "metadata": {}
    },
    {
      "cell_type": "code",
      "source": "dataset['mba_p'].corr(dataset['salary'])",
      "metadata": {
        "trusted": true
      },
      "outputs": [
        {
          "execution_count": 13,
          "output_type": "execute_result",
          "data": {
            "text/plain": "0.13982273892615557"
          },
          "metadata": {}
        }
      ],
      "execution_count": 13
    },
    {
      "cell_type": "markdown",
      "source": "# Answer: \n# Mba mark is directly proportional to Salary",
      "metadata": {}
    },
    {
      "cell_type": "markdown",
      "source": "# 5. Which specialization is getting minimum salary?",
      "metadata": {}
    },
    {
      "cell_type": "code",
      "source": "dataset.groupby('specialisation')['salary'].mean()",
      "metadata": {
        "trusted": true
      },
      "outputs": [
        {
          "execution_count": 47,
          "output_type": "execute_result",
          "data": {
            "text/plain": "specialisation\nMkt&Fin    236591.666667\nMkt&HR     150842.105263\nName: salary, dtype: float64"
          },
          "metadata": {}
        }
      ],
      "execution_count": 47
    },
    {
      "cell_type": "markdown",
      "source": "# Answer:\n# Mkt&HR specialisation is getting minimum salary",
      "metadata": {}
    },
    {
      "cell_type": "markdown",
      "source": "# 6.How many of them getting above 500000 salaries?",
      "metadata": {}
    },
    {
      "cell_type": "code",
      "source": "dataset[dataset['salary'] > 500000]",
      "metadata": {
        "trusted": true
      },
      "outputs": [
        {
          "execution_count": 16,
          "output_type": "execute_result",
          "data": {
            "text/plain": "     sl_no gender  ssc_p    ssc_b  hsc_p    hsc_b     hsc_s  degree_p  \\\n119    120      M   60.8  Central  68.40  Central  Commerce      64.6   \n150    151      M   71.0  Central  58.66  Central   Science      58.0   \n177    178      F   73.0  Central  97.00   Others  Commerce      79.0   \n\n      degree_t workex  etest_p specialisation  mba_p  status    salary  \n119  Comm&Mgmt    Yes    82.66        Mkt&Fin  64.34  Placed  940000.0  \n150   Sci&Tech    Yes    56.00        Mkt&Fin  61.30  Placed  690000.0  \n177  Comm&Mgmt    Yes    89.00        Mkt&Fin  70.81  Placed  650000.0  ",
            "text/html": "<div>\n<style scoped>\n    .dataframe tbody tr th:only-of-type {\n        vertical-align: middle;\n    }\n\n    .dataframe tbody tr th {\n        vertical-align: top;\n    }\n\n    .dataframe thead th {\n        text-align: right;\n    }\n</style>\n<table border=\"1\" class=\"dataframe\">\n  <thead>\n    <tr style=\"text-align: right;\">\n      <th></th>\n      <th>sl_no</th>\n      <th>gender</th>\n      <th>ssc_p</th>\n      <th>ssc_b</th>\n      <th>hsc_p</th>\n      <th>hsc_b</th>\n      <th>hsc_s</th>\n      <th>degree_p</th>\n      <th>degree_t</th>\n      <th>workex</th>\n      <th>etest_p</th>\n      <th>specialisation</th>\n      <th>mba_p</th>\n      <th>status</th>\n      <th>salary</th>\n    </tr>\n  </thead>\n  <tbody>\n    <tr>\n      <th>119</th>\n      <td>120</td>\n      <td>M</td>\n      <td>60.8</td>\n      <td>Central</td>\n      <td>68.40</td>\n      <td>Central</td>\n      <td>Commerce</td>\n      <td>64.6</td>\n      <td>Comm&amp;Mgmt</td>\n      <td>Yes</td>\n      <td>82.66</td>\n      <td>Mkt&amp;Fin</td>\n      <td>64.34</td>\n      <td>Placed</td>\n      <td>940000.0</td>\n    </tr>\n    <tr>\n      <th>150</th>\n      <td>151</td>\n      <td>M</td>\n      <td>71.0</td>\n      <td>Central</td>\n      <td>58.66</td>\n      <td>Central</td>\n      <td>Science</td>\n      <td>58.0</td>\n      <td>Sci&amp;Tech</td>\n      <td>Yes</td>\n      <td>56.00</td>\n      <td>Mkt&amp;Fin</td>\n      <td>61.30</td>\n      <td>Placed</td>\n      <td>690000.0</td>\n    </tr>\n    <tr>\n      <th>177</th>\n      <td>178</td>\n      <td>F</td>\n      <td>73.0</td>\n      <td>Central</td>\n      <td>97.00</td>\n      <td>Others</td>\n      <td>Commerce</td>\n      <td>79.0</td>\n      <td>Comm&amp;Mgmt</td>\n      <td>Yes</td>\n      <td>89.00</td>\n      <td>Mkt&amp;Fin</td>\n      <td>70.81</td>\n      <td>Placed</td>\n      <td>650000.0</td>\n    </tr>\n  </tbody>\n</table>\n</div>"
          },
          "metadata": {}
        }
      ],
      "execution_count": 16
    },
    {
      "cell_type": "markdown",
      "source": "# Answer: \n# Only 3 persons are getting salary above 500000",
      "metadata": {}
    },
    {
      "cell_type": "markdown",
      "source": "# 7. Test the Analysis of Variance between etest_p and mba_p at signifance level 5%. \n# (Make decision using Hypothesis Testing)\n",
      "metadata": {}
    },
    {
      "cell_type": "markdown",
      "source": "# Null hypothesis - there is no similarity between etest_p and mba_p marks ",
      "metadata": {}
    },
    {
      "cell_type": "code",
      "source": "import scipy.stats as stats",
      "metadata": {
        "trusted": true
      },
      "outputs": [],
      "execution_count": 19
    },
    {
      "cell_type": "code",
      "source": "stats.f_oneway(dataset['etest_p'],dataset['mba_p'])",
      "metadata": {
        "trusted": true
      },
      "outputs": [
        {
          "execution_count": 20,
          "output_type": "execute_result",
          "data": {
            "text/plain": "F_onewayResult(statistic=98.64487057324706, pvalue=4.672547689133573e-21)"
          },
          "metadata": {}
        }
      ],
      "execution_count": 20
    },
    {
      "cell_type": "markdown",
      "source": "# Answer:\n# Reject null hypothesis if p < 0.05, here p is greater\n# 4.672 > 0.05\n# So reject alternate hypothesis and accept null hypothesis\n# So there is no similarity between etest_p and mba_p marks ",
      "metadata": {}
    },
    {
      "cell_type": "markdown",
      "source": "# 8. finding the similarity between degree_t [Sci&Tech] and specialization[Mkt&HR] with salary\n# different group degree_t [Sci&Tech] and specialization[Mkt&HR]\n# condition [salary]",
      "metadata": {}
    },
    {
      "cell_type": "code",
      "source": "dataset['specialisation'].value_counts()",
      "metadata": {
        "trusted": true
      },
      "outputs": [
        {
          "execution_count": 24,
          "output_type": "execute_result",
          "data": {
            "text/plain": "Mkt&Fin    120\nMkt&HR      95\nName: specialisation, dtype: int64"
          },
          "metadata": {}
        }
      ],
      "execution_count": 24
    },
    {
      "cell_type": "markdown",
      "source": "# Null hypothesis - there is no similarity between Sci&Tech and Mkt&HR salary",
      "metadata": {}
    },
    {
      "cell_type": "code",
      "source": "from scipy.stats import ttest_ind\ndegree_science = dataset[dataset['degree_t'] == 'Sci&Tech']['salary']\nspecialisation_mkt = dataset[dataset['specialisation'] == 'Mkt&HR']['salary']\nttest_ind(degree_science,specialisation_mkt)",
      "metadata": {
        "trusted": true
      },
      "outputs": [
        {
          "execution_count": 26,
          "output_type": "execute_result",
          "data": {
            "text/plain": "TtestResult(statistic=2.692041243555374, pvalue=0.007897969943471179, df=152.0)"
          },
          "metadata": {}
        }
      ],
      "execution_count": 26
    },
    {
      "cell_type": "markdown",
      "source": "# Answer :\n# Reject null hypothesis if p < 0.05, here p is lesser\n# 0.007 < 0.05\n# So reject null hypothesis\n# So there is similarity between Sci&Tech and Mkt&HR salary",
      "metadata": {}
    },
    {
      "cell_type": "markdown",
      "source": "# 9. Convert the normal distribution to standard normal distribution for salary column",
      "metadata": {}
    },
    {
      "cell_type": "code",
      "source": "import piplite\nawait piplite.install('seaborn')",
      "metadata": {
        "trusted": true
      },
      "outputs": [],
      "execution_count": 34
    },
    {
      "cell_type": "code",
      "source": "import seaborn as sns\nfrom matplotlib import pyplot\nfrom scipy.stats import norm",
      "metadata": {
        "trusted": true
      },
      "outputs": [],
      "execution_count": 35
    },
    {
      "cell_type": "code",
      "source": "#convert to normal standard distribution\ndef stdNB(dataset):\n    #mean function is used to find the mean and stored in mean variable\n    mean = dataset.mean()\n    #std function is used to find the standard deviation and stored in std variable\n    std = dataset.std()\n    #passing the values of the dataset and storing in list\n    values = [i for i in dataset]\n    #z_score calculation using mean and std\n    z_score = [((j - mean)/std) for j in values]\n    #plotting the standard normal distribution curve\n    sns.displot(z_score,kde = True) \n    sum(z_score)/len(z_score)",
      "metadata": {
        "trusted": true
      },
      "outputs": [],
      "execution_count": 36
    },
    {
      "cell_type": "code",
      "source": "stdNB(dataset['salary'])",
      "metadata": {
        "trusted": true
      },
      "outputs": [
        {
          "output_type": "display_data",
          "data": {
            "text/plain": "<Figure size 500x500 with 1 Axes>",
            "image/png": "[encoded data removed]"
          },
          "metadata": {}
        }
      ],
      "execution_count": 37
    },
    {
      "cell_type": "markdown",
      "source": "# 10. What is the probability Density Function of the salary range from 700000 to 900000?",
      "metadata": {}
    },
    {
      "cell_type": "code",
      "source": "def pdf_probability(dataset,startrange,endrange):\n    #distplot function arguments- \n    #dataset is given\n    #kernel density function to get curve, to be in blue color\n    #histogram color in green color\n    ax = sns.distplot(dataset,kde = True,kde_kws = {'color':'blue'},color='Green')\n    # the axvline indicates vertical line , \n    #arguments - start range of the line, color in red\n    pyplot.axvline(startrange,color = 'Red')\n    # the axvline indicates vertical line , \n    #arguments - end range of the line, color in red\n    pyplot.axvline(endrange,color = 'Red')\n\n    sample = dataset\n    #finding the mean using mean() function and stored in sample_mean variable\n    sample_mean = sample.mean()\n    #finding the standard deviation using std() function and stored in sample_std variable\n    sample_std = sample.std()\n    print('mean=%.3f, Standard Deviation = %.3f' % (sample_mean,sample_std))\n    #creates the distribution , mean and std are passed in norm function\n    dist = norm(sample_mean,sample_std)\n    #range function takes start and end range\n    #the values stored in value list\n    values = [value for value in range(startrange,endrange)]\n    #value list is passed in dist.pdf function\n    probabilities = [dist.pdf(value) for value in values]\n    #finding the summation\n    prob = sum(probabilities)\n    print('Area between range({},{}) :{}'.format(startrange,endrange,sum(probabilities)))\n    return prob",
      "metadata": {
        "trusted": true
      },
      "outputs": [],
      "execution_count": 39
    },
    {
      "cell_type": "code",
      "source": "pdf_probability(dataset['salary'],700000,900000)",
      "metadata": {
        "trusted": true
      },
      "outputs": [
        {
          "name": "stderr",
          "text": "<ipython-input-39-7f56522d105b>:6: UserWarning: \n\n`distplot` is a deprecated function and will be removed in seaborn v0.14.0.\n\nPlease adapt your code to use either `displot` (a figure-level function with\nsimilar flexibility) or `histplot` (an axes-level function for histograms).\n\nFor a guide to updating your code to use the new functions, please see\nhttps://gist.github.com/mwaskom/de44147ed2974457ad6372750bbe5751\n\n  ax = sns.distplot(dataset,kde = True,kde_kws = {'color':'blue'},color='Green')\n",
          "output_type": "stream"
        },
        {
          "name": "stdout",
          "text": "mean=198702.326, Standard Deviation = 154780.927\nArea between range(700000,900000) :0.0005973310593974868\n",
          "output_type": "stream"
        },
        {
          "execution_count": 40,
          "output_type": "execute_result",
          "data": {
            "text/plain": "0.0005973310593974868"
          },
          "metadata": {}
        },
        {
          "output_type": "display_data",
          "data": {
            "text/plain": "<Figure size 640x480 with 1 Axes>",
            "image/png": "[encoded data removed]"
          },
          "metadata": {}
        }
      ],
      "execution_count": 40
    },
    {
      "cell_type": "markdown",
      "source": "# 11.Test the similarity between the degree_t(Sci&Tech) with respect to etest_p and mba_p at significance level of 5%",
      "metadata": {}
    },
    {
      "cell_type": "markdown",
      "source": "# Null hypothesis - there is no similarity between Sci&Tech etest_p and mba_p",
      "metadata": {}
    },
    {
      "cell_type": "markdown",
      "source": "# we need to use dependent sample Paired T test\n# same group [degree_t - Sci&Tech] \n# different condition [etest_p,mba_p]",
      "metadata": {}
    },
    {
      "cell_type": "code",
      "source": "\nfrom scipy.stats import ttest_rel\nscitech = dataset[dataset['degree_t'] == 'Sci&Tech']['etest_p']\nscitech1 = dataset[dataset['degree_t'] == 'Sci&Tech']['mba_p']\nttest_rel(scitech,scitech1)",
      "metadata": {
        "trusted": true
      },
      "outputs": [],
      "execution_count": null
    },
    {
      "cell_type": "markdown",
      "source": "# Answer :\n# Here p value is 5.5, which is greater than 0.05\n# So accept null hypothesis\n# So There is no similarity between Sci&Tech etest_p and mba_p",
      "metadata": {}
    },
    {
      "cell_type": "markdown",
      "source": "# 12. Which parameter is highly correlated with salary",
      "metadata": {}
    },
    {
      "cell_type": "code",
      "source": "dataset.corr(numeric_only = True)",
      "metadata": {
        "trusted": true
      },
      "outputs": [
        {
          "execution_count": 45,
          "output_type": "execute_result",
          "data": {
            "text/plain": "             sl_no     ssc_p     hsc_p  degree_p   etest_p     mba_p    salary\nsl_no     1.000000 -0.078155 -0.085711 -0.088281  0.063636  0.022327  0.002543\nssc_p    -0.078155  1.000000  0.511472  0.538404  0.261993  0.388478  0.538090\nhsc_p    -0.085711  0.511472  1.000000  0.434206  0.245113  0.354823  0.452569\ndegree_p -0.088281  0.538404  0.434206  1.000000  0.224470  0.402364  0.408371\netest_p   0.063636  0.261993  0.245113  0.224470  1.000000  0.218055  0.186988\nmba_p     0.022327  0.388478  0.354823  0.402364  0.218055  1.000000  0.139823\nsalary    0.002543  0.538090  0.452569  0.408371  0.186988  0.139823  1.000000",
            "text/html": "<div>\n<style scoped>\n    .dataframe tbody tr th:only-of-type {\n        vertical-align: middle;\n    }\n\n    .dataframe tbody tr th {\n        vertical-align: top;\n    }\n\n    .dataframe thead th {\n        text-align: right;\n    }\n</style>\n<table border=\"1\" class=\"dataframe\">\n  <thead>\n    <tr style=\"text-align: right;\">\n      <th></th>\n      <th>sl_no</th>\n      <th>ssc_p</th>\n      <th>hsc_p</th>\n      <th>degree_p</th>\n      <th>etest_p</th>\n      <th>mba_p</th>\n      <th>salary</th>\n    </tr>\n  </thead>\n  <tbody>\n    <tr>\n      <th>sl_no</th>\n      <td>1.000000</td>\n      <td>-0.078155</td>\n      <td>-0.085711</td>\n      <td>-0.088281</td>\n      <td>0.063636</td>\n      <td>0.022327</td>\n      <td>0.002543</td>\n    </tr>\n    <tr>\n      <th>ssc_p</th>\n      <td>-0.078155</td>\n      <td>1.000000</td>\n      <td>0.511472</td>\n      <td>0.538404</td>\n      <td>0.261993</td>\n      <td>0.388478</td>\n      <td>0.538090</td>\n    </tr>\n    <tr>\n      <th>hsc_p</th>\n      <td>-0.085711</td>\n      <td>0.511472</td>\n      <td>1.000000</td>\n      <td>0.434206</td>\n      <td>0.245113</td>\n      <td>0.354823</td>\n      <td>0.452569</td>\n    </tr>\n    <tr>\n      <th>degree_p</th>\n      <td>-0.088281</td>\n      <td>0.538404</td>\n      <td>0.434206</td>\n      <td>1.000000</td>\n      <td>0.224470</td>\n      <td>0.402364</td>\n      <td>0.408371</td>\n    </tr>\n    <tr>\n      <th>etest_p</th>\n      <td>0.063636</td>\n      <td>0.261993</td>\n      <td>0.245113</td>\n      <td>0.224470</td>\n      <td>1.000000</td>\n      <td>0.218055</td>\n      <td>0.186988</td>\n    </tr>\n    <tr>\n      <th>mba_p</th>\n      <td>0.022327</td>\n      <td>0.388478</td>\n      <td>0.354823</td>\n      <td>0.402364</td>\n      <td>0.218055</td>\n      <td>1.000000</td>\n      <td>0.139823</td>\n    </tr>\n    <tr>\n      <th>salary</th>\n      <td>0.002543</td>\n      <td>0.538090</td>\n      <td>0.452569</td>\n      <td>0.408371</td>\n      <td>0.186988</td>\n      <td>0.139823</td>\n      <td>1.000000</td>\n    </tr>\n  </tbody>\n</table>\n</div>"
          },
          "metadata": {}
        }
      ],
      "execution_count": 45
    },
    {
      "cell_type": "markdown",
      "source": "# Answer:\n# ssc_p is highly related with salary",
      "metadata": {}
    },
    {
      "cell_type": "markdown",
      "source": "# 13. Plot any useful graph and explain it",
      "metadata": {}
    },
    {
      "cell_type": "code",
      "source": "pyplot.bar(dataset['hsc_p'],dataset['salary'] , color='green')\n\n# Show the plot\npyplot.show()",
      "metadata": {
        "trusted": true
      },
      "outputs": [
        {
          "output_type": "display_data",
          "data": {
            "text/plain": "<Figure size 640x480 with 1 Axes>",
            "image/png": "[encoded data removed]"
          },
          "metadata": {}
        }
      ],
      "execution_count": 84
    },
    {
      "cell_type": "markdown",
      "source": "# Answer\n# The salary is between 2lakh and 4.5 lakh for most of the avg students",
      "metadata": {}
    }
  ]
}