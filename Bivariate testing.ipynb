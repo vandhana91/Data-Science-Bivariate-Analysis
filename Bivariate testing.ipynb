{
  "metadata": {
    "kernelspec": {
      "name": "python",
      "display_name": "Python (Pyodide)",
      "language": "python"
    },
    "language_info": {
      "codemirror_mode": {
        "name": "python",
        "version": 3
      },
      "file_extension": ".py",
      "mimetype": "text/x-python",
      "name": "python",
      "nbconvert_exporter": "python",
      "pygments_lexer": "ipython3",
      "version": "3.8"
    }
  },
  "nbformat_minor": 4,
  "nbformat": 4,
  "cells": [
    {
      "cell_type": "code",
      "source": "import pandas as pd",
      "metadata": {
        "trusted": true
      },
      "outputs": [],
      "execution_count": 1
    },
    {
      "cell_type": "code",
      "source": "dataset = pd.read_csv('PrePlacement.csv')",
      "metadata": {
        "trusted": true
      },
      "outputs": [],
      "execution_count": 2
    },
    {
      "cell_type": "code",
      "source": "dataset.head()",
      "metadata": {
        "trusted": true
      },
      "outputs": [
        {
          "execution_count": 8,
          "output_type": "execute_result",
          "data": {
            "text/plain": "   sl_no gender  ssc_p    ssc_b  hsc_p    hsc_b     hsc_s  degree_p  \\\n0      1      M  67.00   Others  91.00   Others  Commerce     58.00   \n1      2      M  79.33  Central  78.33   Others   Science     77.48   \n2      3      M  65.00  Central  68.00  Central      Arts     64.00   \n3      4      M  56.00  Central  52.00  Central   Science     52.00   \n4      5      M  85.80  Central  73.60  Central  Commerce     73.30   \n\n    degree_t workex  etest_p specialisation  mba_p      status    salary  \n0   Sci&Tech     No     55.0         Mkt&HR  58.80      Placed  270000.0  \n1   Sci&Tech    Yes     86.5        Mkt&Fin  66.28      Placed  200000.0  \n2  Comm&Mgmt     No     75.0        Mkt&Fin  57.80      Placed  250000.0  \n3   Sci&Tech     No     66.0         Mkt&HR  59.43  Not Placed       0.0  \n4  Comm&Mgmt     No     96.8        Mkt&Fin  55.50      Placed  425000.0  ",
            "text/html": "<div>\n<style scoped>\n    .dataframe tbody tr th:only-of-type {\n        vertical-align: middle;\n    }\n\n    .dataframe tbody tr th {\n        vertical-align: top;\n    }\n\n    .dataframe thead th {\n        text-align: right;\n    }\n</style>\n<table border=\"1\" class=\"dataframe\">\n  <thead>\n    <tr style=\"text-align: right;\">\n      <th></th>\n      <th>sl_no</th>\n      <th>gender</th>\n      <th>ssc_p</th>\n      <th>ssc_b</th>\n      <th>hsc_p</th>\n      <th>hsc_b</th>\n      <th>hsc_s</th>\n      <th>degree_p</th>\n      <th>degree_t</th>\n      <th>workex</th>\n      <th>etest_p</th>\n      <th>specialisation</th>\n      <th>mba_p</th>\n      <th>status</th>\n      <th>salary</th>\n    </tr>\n  </thead>\n  <tbody>\n    <tr>\n      <th>0</th>\n      <td>1</td>\n      <td>M</td>\n      <td>67.00</td>\n      <td>Others</td>\n      <td>91.00</td>\n      <td>Others</td>\n      <td>Commerce</td>\n      <td>58.00</td>\n      <td>Sci&amp;Tech</td>\n      <td>No</td>\n      <td>55.0</td>\n      <td>Mkt&amp;HR</td>\n      <td>58.80</td>\n      <td>Placed</td>\n      <td>270000.0</td>\n    </tr>\n    <tr>\n      <th>1</th>\n      <td>2</td>\n      <td>M</td>\n      <td>79.33</td>\n      <td>Central</td>\n      <td>78.33</td>\n      <td>Others</td>\n      <td>Science</td>\n      <td>77.48</td>\n      <td>Sci&amp;Tech</td>\n      <td>Yes</td>\n      <td>86.5</td>\n      <td>Mkt&amp;Fin</td>\n      <td>66.28</td>\n      <td>Placed</td>\n      <td>200000.0</td>\n    </tr>\n    <tr>\n      <th>2</th>\n      <td>3</td>\n      <td>M</td>\n      <td>65.00</td>\n      <td>Central</td>\n      <td>68.00</td>\n      <td>Central</td>\n      <td>Arts</td>\n      <td>64.00</td>\n      <td>Comm&amp;Mgmt</td>\n      <td>No</td>\n      <td>75.0</td>\n      <td>Mkt&amp;Fin</td>\n      <td>57.80</td>\n      <td>Placed</td>\n      <td>250000.0</td>\n    </tr>\n    <tr>\n      <th>3</th>\n      <td>4</td>\n      <td>M</td>\n      <td>56.00</td>\n      <td>Central</td>\n      <td>52.00</td>\n      <td>Central</td>\n      <td>Science</td>\n      <td>52.00</td>\n      <td>Sci&amp;Tech</td>\n      <td>No</td>\n      <td>66.0</td>\n      <td>Mkt&amp;HR</td>\n      <td>59.43</td>\n      <td>Not Placed</td>\n      <td>0.0</td>\n    </tr>\n    <tr>\n      <th>4</th>\n      <td>5</td>\n      <td>M</td>\n      <td>85.80</td>\n      <td>Central</td>\n      <td>73.60</td>\n      <td>Central</td>\n      <td>Commerce</td>\n      <td>73.30</td>\n      <td>Comm&amp;Mgmt</td>\n      <td>No</td>\n      <td>96.8</td>\n      <td>Mkt&amp;Fin</td>\n      <td>55.50</td>\n      <td>Placed</td>\n      <td>425000.0</td>\n    </tr>\n  </tbody>\n</table>\n</div>"
          },
          "metadata": {}
        }
      ],
      "execution_count": 8
    },
    {
      "cell_type": "code",
      "source": "from scipy.stats import ttest_ind\nfrom scipy.stats import ttest_rel\ndataset = dataset.dropna()",
      "metadata": {
        "trusted": true
      },
      "outputs": [],
      "execution_count": 7
    },
    {
      "cell_type": "code",
      "source": "#independent Sample Unpaired T test\n#finding the similarity in male and female salary\n#different groups [male , female] condition [salary]\nmale = dataset[dataset['gender'] == 'M']['salary']\nfemale = dataset[dataset['gender'] == 'F']['salary']\nttest_ind(male,female)",
      "metadata": {
        "trusted": true
      },
      "outputs": [
        {
          "execution_count": 6,
          "output_type": "execute_result",
          "data": {
            "text/plain": "TtestResult(statistic=2.0937842507001165, pvalue=0.03746230397067219, df=213.0)"
          },
          "metadata": {}
        }
      ],
      "execution_count": 6
    },
    {
      "cell_type": "code",
      "source": "#dependent sample Paired T test\n#same group [male] different condition [ssc_p,hsc_p]\nmale = dataset[dataset['gender'] == 'M']['ssc_p']\nmale1 = dataset[dataset['gender'] == 'M']['hsc_p']\nttest_rel(male,male1)",
      "metadata": {
        "trusted": true
      },
      "outputs": [
        {
          "execution_count": 9,
          "output_type": "execute_result",
          "data": {
            "text/plain": "TtestResult(statistic=0.6842940392688153, pvalue=0.4949370716000775, df=138)"
          },
          "metadata": {}
        }
      ],
      "execution_count": 9
    },
    {
      "cell_type": "code",
      "source": "#finding the similarity between central and others salary\n#different group hsc_b [central,others]\n#condition [salary]\ncentral = dataset[dataset['hsc_b'] == 'Central']['salary']\nothers = dataset[dataset['hsc_b'] == 'Others']['salary']\nttest_ind(central,others)",
      "metadata": {
        "trusted": true
      },
      "outputs": [
        {
          "execution_count": 13,
          "output_type": "execute_result",
          "data": {
            "text/plain": "TtestResult(statistic=-0.30570032095155825, pvalue=0.7601313863865756, df=213.0)"
          },
          "metadata": {}
        }
      ],
      "execution_count": 13
    },
    {
      "cell_type": "code",
      "source": "#finding similarity in commerce students in mba and entrance test\n#same group - hsc_s [commerce]\n#different condition[mba_p,etest_p]\ncomm_mba = dataset[dataset['hsc_s'] == 'Commerce']['mba_p']\ncomm_etest = dataset[dataset['hsc_s'] == 'Commerce']['etest_p']\nttest_rel(comm_mba,comm_etest)",
      "metadata": {
        "trusted": true
      },
      "outputs": [
        {
          "execution_count": 14,
          "output_type": "execute_result",
          "data": {
            "text/plain": "TtestResult(statistic=-7.868552092606871, pvalue=2.462926468454984e-12, df=112)"
          },
          "metadata": {}
        }
      ],
      "execution_count": 14
    },
    {
      "cell_type": "code",
      "source": "#Hypothesis testing",
      "metadata": {
        "trusted": true
      },
      "outputs": [],
      "execution_count": 15
    },
    {
      "cell_type": "code",
      "source": "#test whether SSC_P of male and HSC_P of male is same",
      "metadata": {
        "trusted": true
      },
      "outputs": [],
      "execution_count": 16
    },
    {
      "cell_type": "code",
      "source": "#Null hypothesis - there is no similarity between SSC_P and HSC_P marks of male",
      "metadata": {
        "trusted": true
      },
      "outputs": [],
      "execution_count": 17
    },
    {
      "cell_type": "code",
      "source": "#dependent sample Paired T test\n#same group [male] different condition [ssc_p,hsc_p]\nmale = dataset[dataset['gender'] == 'M']['ssc_p']\nmale1 = dataset[dataset['gender'] == 'M']['hsc_p']\nttest_rel(male,male1)",
      "metadata": {
        "trusted": true
      },
      "outputs": [
        {
          "execution_count": 18,
          "output_type": "execute_result",
          "data": {
            "text/plain": "TtestResult(statistic=0.6842940392688153, pvalue=0.4949370716000775, df=138)"
          },
          "metadata": {}
        }
      ],
      "execution_count": 18
    },
    {
      "cell_type": "code",
      "source": "#Reject null hypothesis if p < 0.05, here p is greater\n# 0.49 > 0.05\n# So reject alternate hypothesis and accept null hypothesis",
      "metadata": {
        "trusted": true
      },
      "outputs": [],
      "execution_count": 19
    },
    {
      "cell_type": "code",
      "source": "# 1 way classification\nimport scipy.stats as stats",
      "metadata": {
        "trusted": true
      },
      "outputs": [],
      "execution_count": 20
    },
    {
      "cell_type": "code",
      "source": "stats.f_oneway(dataset['ssc_p'],dataset['hsc_p'],dataset['degree_p'])",
      "metadata": {
        "trusted": true
      },
      "outputs": [
        {
          "execution_count": 22,
          "output_type": "execute_result",
          "data": {
            "text/plain": "F_onewayResult(statistic=0.695991304348204, pvalue=0.49895574725815317)"
          },
          "metadata": {}
        }
      ],
      "execution_count": 22
    },
    {
      "cell_type": "code",
      "source": "# 2 way classification\nfrom statsmodels.formula.api import ols\nfrom statsmodels.stats.anova import anova_lm",
      "metadata": {
        "trusted": true
      },
      "outputs": [],
      "execution_count": 27
    },
    {
      "cell_type": "code",
      "source": "model = ols('salary ~ gender + degree_t\t + gender:degree_t', data=dataset).fit()",
      "metadata": {
        "trusted": true
      },
      "outputs": [],
      "execution_count": 28
    },
    {
      "cell_type": "code",
      "source": "anova_results = anova_lm(model, typ=2)\nprint(anova_results)",
      "metadata": {
        "trusted": true
      },
      "outputs": [
        {
          "name": "stdout",
          "text": "                       sum_sq     df         F    PR(>F)\ngender           7.879048e+10    1.0  3.600750  0.059132\ndegree_t         6.299754e+10    2.0  1.439504  0.239386\ngender:degree_t  1.008857e+11    2.0  2.305254  0.102264\nResidual         4.573273e+12  209.0       NaN       NaN\n",
          "output_type": "stream"
        }
      ],
      "execution_count": 29
    },
    {
      "cell_type": "code",
      "source": "#The gender p-value is 0.059132, which is greater than 0.5 it suggests that the different gender types \n#have no significant effect on salary\n\n#The degree_t p-value is 0.239386,which is greater than 0.5 it suggests that the degree_t have no\n#significant effect on salary\n\n\n#The gender:degree_t: p-value is 0.102264\n\n#The p-value for the interaction effect (0.102264) is greater than 0.05 which states \n#that there is no significant difference between gender and degree_t",
      "metadata": {
        "trusted": true
      },
      "outputs": [],
      "execution_count": 30
    },
    {
      "cell_type": "code",
      "source": "",
      "metadata": {
        "trusted": true
      },
      "outputs": [
        {
          "execution_count": 33,
          "output_type": "execute_result",
          "data": {
            "text/plain": "False"
          },
          "metadata": {}
        }
      ],
      "execution_count": 33
    },
    {
      "cell_type": "code",
      "source": "",
      "metadata": {
        "trusted": true
      },
      "outputs": [],
      "execution_count": null
    }
  ]
}